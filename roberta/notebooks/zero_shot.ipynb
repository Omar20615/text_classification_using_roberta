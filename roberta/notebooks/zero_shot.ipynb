{
  "cells": [
    {
      "cell_type": "code",
      "execution_count": null,
      "metadata": {
        "colab": {
          "base_uri": "https://localhost:8080/"
        },
        "id": "H2VqeMm2ppCg",
        "outputId": "067f0bbf-8802-4f32-d128-db28248d0f39"
      },
      "outputs": [
        {
          "output_type": "stream",
          "name": "stdout",
          "text": [
            "Collecting transformers\n",
            "  Downloading transformers-4.31.0-py3-none-any.whl (7.4 MB)\n",
            "\u001b[2K     \u001b[90m━━━━━━━━━━━━━━━━━━━━━━━━━━━━━━━━━━━━━━━━\u001b[0m \u001b[32m7.4/7.4 MB\u001b[0m \u001b[31m18.9 MB/s\u001b[0m eta \u001b[36m0:00:00\u001b[0m\n",
            "\u001b[?25hRequirement already satisfied: filelock in /usr/local/lib/python3.10/dist-packages (from transformers) (3.12.2)\n",
            "Collecting huggingface-hub<1.0,>=0.14.1 (from transformers)\n",
            "  Downloading huggingface_hub-0.16.4-py3-none-any.whl (268 kB)\n",
            "\u001b[2K     \u001b[90m━━━━━━━━━━━━━━━━━━━━━━━━━━━━━━━━━━━━━━\u001b[0m \u001b[32m268.8/268.8 kB\u001b[0m \u001b[31m22.5 MB/s\u001b[0m eta \u001b[36m0:00:00\u001b[0m\n",
            "\u001b[?25hRequirement already satisfied: numpy>=1.17 in /usr/local/lib/python3.10/dist-packages (from transformers) (1.22.4)\n",
            "Requirement already satisfied: packaging>=20.0 in /usr/local/lib/python3.10/dist-packages (from transformers) (23.1)\n",
            "Requirement already satisfied: pyyaml>=5.1 in /usr/local/lib/python3.10/dist-packages (from transformers) (6.0.1)\n",
            "Requirement already satisfied: regex!=2019.12.17 in /usr/local/lib/python3.10/dist-packages (from transformers) (2022.10.31)\n",
            "Requirement already satisfied: requests in /usr/local/lib/python3.10/dist-packages (from transformers) (2.27.1)\n",
            "Collecting tokenizers!=0.11.3,<0.14,>=0.11.1 (from transformers)\n",
            "  Downloading tokenizers-0.13.3-cp310-cp310-manylinux_2_17_x86_64.manylinux2014_x86_64.whl (7.8 MB)\n",
            "\u001b[2K     \u001b[90m━━━━━━━━━━━━━━━━━━━━━━━━━━━━━━━━━━━━━━━━\u001b[0m \u001b[32m7.8/7.8 MB\u001b[0m \u001b[31m65.3 MB/s\u001b[0m eta \u001b[36m0:00:00\u001b[0m\n",
            "\u001b[?25hCollecting safetensors>=0.3.1 (from transformers)\n",
            "  Downloading safetensors-0.3.1-cp310-cp310-manylinux_2_17_x86_64.manylinux2014_x86_64.whl (1.3 MB)\n",
            "\u001b[2K     \u001b[90m━━━━━━━━━━━━━━━━━━━━━━━━━━━━━━━━━━━━━━━━\u001b[0m \u001b[32m1.3/1.3 MB\u001b[0m \u001b[31m65.1 MB/s\u001b[0m eta \u001b[36m0:00:00\u001b[0m\n",
            "\u001b[?25hRequirement already satisfied: tqdm>=4.27 in /usr/local/lib/python3.10/dist-packages (from transformers) (4.65.0)\n",
            "Requirement already satisfied: fsspec in /usr/local/lib/python3.10/dist-packages (from huggingface-hub<1.0,>=0.14.1->transformers) (2023.6.0)\n",
            "Requirement already satisfied: typing-extensions>=3.7.4.3 in /usr/local/lib/python3.10/dist-packages (from huggingface-hub<1.0,>=0.14.1->transformers) (4.7.1)\n",
            "Requirement already satisfied: urllib3<1.27,>=1.21.1 in /usr/local/lib/python3.10/dist-packages (from requests->transformers) (1.26.16)\n",
            "Requirement already satisfied: certifi>=2017.4.17 in /usr/local/lib/python3.10/dist-packages (from requests->transformers) (2023.7.22)\n",
            "Requirement already satisfied: charset-normalizer~=2.0.0 in /usr/local/lib/python3.10/dist-packages (from requests->transformers) (2.0.12)\n",
            "Requirement already satisfied: idna<4,>=2.5 in /usr/local/lib/python3.10/dist-packages (from requests->transformers) (3.4)\n",
            "Installing collected packages: tokenizers, safetensors, huggingface-hub, transformers\n",
            "Successfully installed huggingface-hub-0.16.4 safetensors-0.3.1 tokenizers-0.13.3 transformers-4.31.0\n",
            "Collecting accelerate==0.20.3\n",
            "  Downloading accelerate-0.20.3-py3-none-any.whl (227 kB)\n",
            "\u001b[2K     \u001b[90m━━━━━━━━━━━━━━━━━━━━━━━━━━━━━━━━━━━━━━━\u001b[0m \u001b[32m227.6/227.6 kB\u001b[0m \u001b[31m3.7 MB/s\u001b[0m eta \u001b[36m0:00:00\u001b[0m\n",
            "\u001b[?25hRequirement already satisfied: numpy>=1.17 in /usr/local/lib/python3.10/dist-packages (from accelerate==0.20.3) (1.22.4)\n",
            "Requirement already satisfied: packaging>=20.0 in /usr/local/lib/python3.10/dist-packages (from accelerate==0.20.3) (23.1)\n",
            "Requirement already satisfied: psutil in /usr/local/lib/python3.10/dist-packages (from accelerate==0.20.3) (5.9.5)\n",
            "Requirement already satisfied: pyyaml in /usr/local/lib/python3.10/dist-packages (from accelerate==0.20.3) (6.0.1)\n",
            "Requirement already satisfied: torch>=1.6.0 in /usr/local/lib/python3.10/dist-packages (from accelerate==0.20.3) (2.0.1+cu118)\n",
            "Requirement already satisfied: filelock in /usr/local/lib/python3.10/dist-packages (from torch>=1.6.0->accelerate==0.20.3) (3.12.2)\n",
            "Requirement already satisfied: typing-extensions in /usr/local/lib/python3.10/dist-packages (from torch>=1.6.0->accelerate==0.20.3) (4.7.1)\n",
            "Requirement already satisfied: sympy in /usr/local/lib/python3.10/dist-packages (from torch>=1.6.0->accelerate==0.20.3) (1.11.1)\n",
            "Requirement already satisfied: networkx in /usr/local/lib/python3.10/dist-packages (from torch>=1.6.0->accelerate==0.20.3) (3.1)\n",
            "Requirement already satisfied: jinja2 in /usr/local/lib/python3.10/dist-packages (from torch>=1.6.0->accelerate==0.20.3) (3.1.2)\n",
            "Requirement already satisfied: triton==2.0.0 in /usr/local/lib/python3.10/dist-packages (from torch>=1.6.0->accelerate==0.20.3) (2.0.0)\n",
            "Requirement already satisfied: cmake in /usr/local/lib/python3.10/dist-packages (from triton==2.0.0->torch>=1.6.0->accelerate==0.20.3) (3.25.2)\n",
            "Requirement already satisfied: lit in /usr/local/lib/python3.10/dist-packages (from triton==2.0.0->torch>=1.6.0->accelerate==0.20.3) (16.0.6)\n",
            "Requirement already satisfied: MarkupSafe>=2.0 in /usr/local/lib/python3.10/dist-packages (from jinja2->torch>=1.6.0->accelerate==0.20.3) (2.1.3)\n",
            "Requirement already satisfied: mpmath>=0.19 in /usr/local/lib/python3.10/dist-packages (from sympy->torch>=1.6.0->accelerate==0.20.3) (1.3.0)\n",
            "Installing collected packages: accelerate\n",
            "Successfully installed accelerate-0.20.3\n"
          ]
        }
      ],
      "source": [
        "!pip install transformers\n",
        "!pip install accelerate==0.20.3\n"
      ]
    },
    {
      "cell_type": "code",
      "execution_count": null,
      "metadata": {
        "id": "3i1IjFl3p1YN"
      },
      "outputs": [],
      "source": [
        "import accelerate"
      ]
    },
    {
      "cell_type": "code",
      "source": [
        "from google.colab import drive\n",
        "drive.mount('/content/drive')"
      ],
      "metadata": {
        "id": "kClLJILH0C02"
      },
      "execution_count": null,
      "outputs": []
    },
    {
      "cell_type": "code",
      "source": [
        "!pip install numba\n",
        "\n",
        "from numba import cuda\n",
        "device = cuda.get_current_device()\n",
        "device.reset()"
      ],
      "metadata": {
        "id": "Oh9It3-Qv9dQ",
        "colab": {
          "base_uri": "https://localhost:8080/"
        },
        "outputId": "dcc2b5af-8049-48c7-ff9a-3f0526a7a32e"
      },
      "execution_count": null,
      "outputs": [
        {
          "output_type": "stream",
          "name": "stdout",
          "text": [
            "Requirement already satisfied: numba in /usr/local/lib/python3.10/dist-packages (0.56.4)\n",
            "Requirement already satisfied: llvmlite<0.40,>=0.39.0dev0 in /usr/local/lib/python3.10/dist-packages (from numba) (0.39.1)\n",
            "Requirement already satisfied: numpy<1.24,>=1.18 in /usr/local/lib/python3.10/dist-packages (from numba) (1.22.4)\n",
            "Requirement already satisfied: setuptools in /usr/local/lib/python3.10/dist-packages (from numba) (67.7.2)\n"
          ]
        }
      ]
    },
    {
      "cell_type": "code",
      "source": [],
      "metadata": {
        "id": "IIeS8Hrz1ukd"
      },
      "execution_count": null,
      "outputs": []
    },
    {
      "cell_type": "code",
      "source": [
        "!pip install SentencePiece -U"
      ],
      "metadata": {
        "colab": {
          "base_uri": "https://localhost:8080/"
        },
        "id": "fliCVwZZybdM",
        "outputId": "0db2a93b-63e2-47af-ed05-e5990b282630"
      },
      "execution_count": null,
      "outputs": [
        {
          "output_type": "stream",
          "name": "stdout",
          "text": [
            "Collecting SentencePiece\n",
            "  Downloading sentencepiece-0.1.99-cp310-cp310-manylinux_2_17_x86_64.manylinux2014_x86_64.whl (1.3 MB)\n",
            "\u001b[2K     \u001b[90m━━━━━━━━━━━━━━━━━━━━━━━━━━━━━━━━━━━━━━━━\u001b[0m \u001b[32m1.3/1.3 MB\u001b[0m \u001b[31m7.2 MB/s\u001b[0m eta \u001b[36m0:00:00\u001b[0m\n",
            "\u001b[?25hInstalling collected packages: SentencePiece\n",
            "Successfully installed SentencePiece-0.1.99\n"
          ]
        }
      ]
    },
    {
      "cell_type": "code",
      "source": [
        "from transformers import AutoModelForQuestionAnswering, AutoTokenizer, pipeline\n",
        "\n",
        "model_name = \"alon-albalak/xlm-roberta-base-xquad\"\n",
        "\n",
        "# a) Get predictions\n",
        "nlp = pipeline('question-answering', model=model_name, tokenizer=model_name)\n",
        "QA_input = {\n",
        "    'question': 'what is the mrn of the patient ?',\n",
        "    'context':  'Okay , MRN is 176045 . Date of birth is 9 27 , 1937 . This is patient sara kahn . Um sara khan is an 85 -year-old female who presents for a full skin exam . His um history of present illness , Augmentin , endorses one spot of concern  period  Um spot duration has been one year  period  Spot is located on the chest  period  History , patient has a history of multiple actinic keratosis that were treated with cryotherapy of the chest , arms , and the hands patient has a history of obesity on the left shoulder that was treated with Mohs and 10 um 20/20  period  Patient has no history of blistering sunburns  period  No history of te- 10 in bed use  period  No history of immunosuppressants or organ transplant  period   FAMILY HISTORY  Patient has a family history of nonmelanomas , skin cancer , has patient has no family history of nonmelanomas , skin cancer  period  Patient has no family history of melanoma or skin cancer  period   REVIEW OF SYSTEMS  Patient is negative for fevers , chills , unintentional weight loss period   ALLERGIES  Patient is allergic to penicillin .  MEDICATIONS  Patient is on um aspirin 81 mg um one daily .  MEDICAL HISTORY  Um patient has a medical history of hy- hypertension PHYSICAL EXAM  General appearance , patient is well developed , well nourished . No lymphadenopathy noted on exam . Patient full skin exam was inc- um full skin exam included visualization of the hairs , scalp , and face , back , chest , abdomen , upper and lower extremities  period  Exam was notable for numerous benign-appearing lesions including 2 to 6 mm light median brown uniformly colored macules and papules and compressible bright red capules with vascular lacunar dermiscopy  period  Abnormal findings are noted below  period  One first positive finding is two to four mm erythematous scaly hyperkeratotic papules in the left and right parotid area . Positive also for hyper and hypopigmented macules in the face . Chest , arms , positive for scattered light and dark brown , stuck on papules , 5 mm to'\n",
        "}\n",
        "res = nlp(QA_input)\n",
        "\n",
        "print(res)"
      ],
      "metadata": {
        "colab": {
          "base_uri": "https://localhost:8080/"
        },
        "id": "egBQHby41cFz",
        "outputId": "1e295fc2-e399-43fc-85ce-22f85a6563a0"
      },
      "execution_count": null,
      "outputs": [
        {
          "output_type": "stream",
          "name": "stdout",
          "text": [
            "{'score': 0.5501005053520203, 'start': 14, 'end': 20, 'answer': '176045'}\n"
          ]
        }
      ]
    },
    {
      "cell_type": "code",
      "source": [
        "nlp = pipeline('question-answering', model=model_name, tokenizer=model_name)\n",
        "QA_input = {\n",
        "    'question': 'what is the date of birth(dob) of the patient ?',\n",
        "    'context':  'Okay , MRN is 176045 . Date of birth is 9 27 , 1937 . This is patient sara kahn . Um sara khan is an 85 -year-old female who presents for a full skin exam . His um history of present illness , Augmentin , endorses one spot of concern  period  Um spot duration has been one year  period  Spot is located on the chest  period  History , patient has a history of multiple actinic keratosis that were treated with cryotherapy of the chest , arms , and the hands patient has a history of obesity on the left shoulder that was treated with Mohs and 10 um 20/20  period  Patient has no history of blistering sunburns  period  No history of te- 10 in bed use  period  No history of immunosuppressants or organ transplant  period   FAMILY HISTORY  Patient has a family history of nonmelanomas , skin cancer , has patient has no family history of nonmelanomas , skin cancer  period  Patient has no family history of melanoma or skin cancer  period   REVIEW OF SYSTEMS  Patient is negative for fevers , chills , unintentional weight loss period   ALLERGIES  Patient is allergic to penicillin .  MEDICATIONS  Patient is on um aspirin 81 mg um one daily .  MEDICAL HISTORY  Um patient has a medical history of hy- hypertension PHYSICAL EXAM  General appearance , patient is well developed , well nourished . No lymphadenopathy noted on exam . Patient full skin exam was inc- um full skin exam included visualization of the hairs , scalp , and face , back , chest , abdomen , upper and lower extremities  period  Exam was notable for numerous benign-appearing lesions including 2 to 6 mm light median brown uniformly colored macules and papules and compressible bright red capules with vascular lacunar dermiscopy  period  Abnormal findings are noted below  period  One first positive finding is two to four mm erythematous scaly hyperkeratotic papules in the left and right parotid area . Positive also for hyper and hypopigmented macules in the face . Chest , arms , positive for scattered light and dark brown , stuck on papules , 5 mm to'\n",
        "}\n",
        "res = nlp(QA_input)\n",
        "\n",
        "print(res)"
      ],
      "metadata": {
        "colab": {
          "base_uri": "https://localhost:8080/"
        },
        "id": "mmxuQcut9k7Z",
        "outputId": "343e2080-9d45-42e1-bc59-cd2ce4b688a9"
      },
      "execution_count": null,
      "outputs": [
        {
          "output_type": "stream",
          "name": "stdout",
          "text": [
            "{'score': 0.9997950792312622, 'start': 40, 'end': 51, 'answer': '9 27 , 1937'}\n"
          ]
        }
      ]
    },
    {
      "cell_type": "code",
      "source": [
        "\n",
        "nlp = pipeline('question-answering', model=model_name, tokenizer=model_name)\n",
        "QA_input = {\n",
        "    'question': 'how many years old is the patient ?',\n",
        "    'context':  \"Jason, a 42-year-old female patient, was seen on September 5, 2023, for a routine follow-up visit. [PAST MEDICAL HISTORY] Personal history of migraines, hypothyroidism. no family history of hypothyroidism, occasional alcohol use,never smoked.[ALLERGIES] No known drug allergies.[CURRENT MEDICATIONS] Jason is currently taking sumatriptan for migraines as needed and levothyroxine for hypothyroidism.[REVIEW OF SYSTEMS] Neurological - occasional migraines with aura. General - no fever, sweats, or chills.[HISTORY OF PRESENT ILLNESS] The patient presents for a follow-up on migraine management. She reports occasional migraines with visual disturbances and moderate pain intensity.[EXAMINATION] Neurological examination is within normal limits. Blood pressure is within the normal range.[ASSESSMENT AND PLAN] Migraine with aura. Management options were discussed, including acute migraine medications and preventive therapies. Patient opted to continue with her current treatment regimen. Prescribed propranolol as a preventive measure, 20 mg twice daily. Patient educated on potential side effects and advised to monitor blood pressure regularly.\"\n",
        "}\n",
        "res = nlp(QA_input)\n",
        "\n",
        "print(res)"
      ],
      "metadata": {
        "id": "b1K4Hguc8_tg",
        "colab": {
          "base_uri": "https://localhost:8080/"
        },
        "outputId": "27ea0853-6745-4d76-beea-d643b7ec39f2"
      },
      "execution_count": null,
      "outputs": [
        {
          "output_type": "stream",
          "name": "stdout",
          "text": [
            "{'score': 0.9990261793136597, 'start': 9, 'end': 20, 'answer': '42-year-old'}\n"
          ]
        }
      ]
    },
    {
      "cell_type": "code",
      "source": [
        "nlp = pipeline('question-answering', model=model_name, tokenizer=model_name)\n",
        "QA_input = {\n",
        "    'question': 'What is the name of the pateint ?',\n",
        "    'context':  \"The name of the Patient is Jason, a 42-year-old female patient, was seen on September 5, 2023, for a routine follow-up visit. [PAST MEDICAL HISTORY] Personal history of migraines, hypothyroidism. no family history of hypothyroidism, occasional alcohol use,never smoked.[ALLERGIES] No known drug allergies.[CURRENT MEDICATIONS] Jason is currently taking sumatriptan for migraines as needed and levothyroxine for hypothyroidism.[REVIEW OF SYSTEMS] Neurological - occasional migraines with aura. General - no fever, sweats, or chills.[HISTORY OF PRESENT ILLNESS] The patient presents for a follow-up on migraine management. She reports occasional migraines with visual disturbances and moderate pain intensity.[EXAMINATION] Neurological examination is within normal limits. Blood pressure is within the normal range.[ASSESSMENT AND PLAN] Migraine with aura. Management options were discussed, including acute migraine medications and preventive therapies. Patient opted to continue with her current treatment regimen. Prescribed propranolol as a preventive measure, 20 mg twice daily. Patient educated on potential side effects and advised to monitor blood pressure regularly.\"\n",
        "}\n",
        "res = nlp(QA_input)\n",
        "print(res)"
      ],
      "metadata": {
        "colab": {
          "base_uri": "https://localhost:8080/"
        },
        "id": "IWf9r4Re8hXf",
        "outputId": "675d54ff-ca64-4655-eac8-67cfedf2de53"
      },
      "execution_count": null,
      "outputs": [
        {
          "output_type": "stream",
          "name": "stdout",
          "text": [
            "{'score': 0.9997308850288391, 'start': 27, 'end': 33, 'answer': 'Jason,'}\n"
          ]
        }
      ]
    },
    {
      "cell_type": "code",
      "source": [],
      "metadata": {
        "id": "odW-V_5N9c_Z"
      },
      "execution_count": null,
      "outputs": []
    }
  ],
  "metadata": {
    "colab": {
      "provenance": [],
      "gpuType": "T4"
    },
    "kernelspec": {
      "display_name": "Python 3",
      "name": "python3"
    },
    "language_info": {
      "name": "python"
    },
    "accelerator": "GPU"
  },
  "nbformat": 4,
  "nbformat_minor": 0
}